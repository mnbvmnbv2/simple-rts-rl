{
 "cells": [
  {
   "cell_type": "markdown",
   "metadata": {},
   "source": [
    "# Basic usage"
   ]
  },
  {
   "cell_type": "code",
   "execution_count": null,
   "metadata": {},
   "outputs": [],
   "source": [
    "import jax.numpy as jnp\n",
    "\n",
    "import chex\n",
    "import jax\n",
    "import jax.numpy as jnp\n",
    "import numpy as np\n",
    "from matplotlib import pyplot as plt"
   ]
  },
  {
   "cell_type": "code",
   "execution_count": null,
   "metadata": {},
   "outputs": [],
   "source": [
    "from src.rts.config import EnvConfig\n",
    "from src.rts.env import EnvState\n",
    "\n",
    "# from src.rts.visualizaiton import visualize_board"
   ]
  },
  {
   "cell_type": "markdown",
   "metadata": {},
   "source": [
    "### Visualization"
   ]
  },
  {
   "cell_type": "code",
   "execution_count": null,
   "metadata": {},
   "outputs": [],
   "source": [
    "def visualize_board(state: EnvState) -> None:\n",
    "    board = state.board\n",
    "    # Visualize the board\n",
    "    player_1_base_color = [0.0, 0.0, 0.8]\n",
    "    player_1_color = [0.0, 0.0, 1.0]\n",
    "    player_2_base_color = [0.8, 0.0, 0.0]\n",
    "    player_2_color = [1.0, 0.0, 0.0]\n",
    "    neutral_base_color = [0.2, 0.2, 0.2]\n",
    "    neutral_color = [0.5, 0.5, 0.5]\n",
    "    empty_color = [1.0, 1.0, 1.0]\n",
    "    \n",
    "    # Create a new image\n",
    "    image = np.ones((board.shape[0], board.shape[1], 3))\n",
    "\n",
    "    # Fill the image with the player colors\n",
    "\n",
    "\n",
    "    # Fill inn troop numbers\n",
    "    for i in range(board.shape[0]):\n",
    "        for j in range(board.shape[1]):\n",
    "            if board[i, j, 0] > 0:\n",
    "                if board[i, j, 3] > 0:\n",
    "                    image[i, j] = player_1_base_color\n",
    "                else:\n",
    "                    image[i, j] = player_1_color\n",
    "                plt.text(j, i, str(int(board[i, j, 0])), ha=\"center\", va=\"center\", color=\"black\")\n",
    "            elif board[i, j, 1] > 0:\n",
    "                if board[i, j, 4] > 0:\n",
    "                    image[i, j] = player_2_base_color\n",
    "                else:\n",
    "                    image[i, j] = player_2_color\n",
    "                plt.text(j, i, str(int(board[i, j, 1])), ha=\"center\", va=\"center\", color=\"black\")\n",
    "            elif board[i, j, 2] > 0:\n",
    "                if board[i, j, 5] > 0:\n",
    "                    image[i, j] = neutral_base_color\n",
    "                else:\n",
    "                    image[i, j] = neutral_color\n",
    "                plt.text(j, i, str(int(board[i, j, 2])), ha=\"center\", va=\"center\", color=\"black\")\n",
    "            else:\n",
    "                image[i, j] = empty_color\n",
    "                plt.text(j, i, \"0\", ha=\"center\", va=\"center\", color=\"black\")\n",
    "\n",
    "    # In top left corner, show the time as pink number\n",
    "    plt.text(-0.5, -0.5, str(state.time), ha=\"center\", va=\"center\", color=\"purple\")\n",
    "\n",
    "    # remove the axis\n",
    "    plt.axis(\"off\")\n",
    "\n",
    "    # Show the image\n",
    "    plt.imshow(image)\n",
    "    plt.show()"
   ]
  },
  {
   "cell_type": "markdown",
   "metadata": {},
   "source": [
    "### Init state"
   ]
  },
  {
   "cell_type": "code",
   "execution_count": null,
   "metadata": {},
   "outputs": [],
   "source": [
    "def init_state(rng_key: jnp.ndarray, params: EnvConfig) -> EnvState:\n",
    "    \"\"\"Each tile has 4 channels:\n",
    "    1. Player 1 troops\n",
    "    2. Player 2 troops\n",
    "    3. Neutral troops\n",
    "    4. Base\"\"\"\n",
    "    # create a board\n",
    "    width = params.board_width\n",
    "    height = params.board_height\n",
    "\n",
    "    board=jnp.zeros((width, height, 4), dtype=jnp.int32)\n",
    "    # randomly select 2 start positions that should be unique\n",
    "    pos1 = jax.random.randint(rng_key, (2,), 0, width)\n",
    "    rng_key, _ = jax.random.split(rng_key)\n",
    "    pos2 = jax.random.randint(rng_key, (2,), 0, width)\n",
    "    while jnp.array_equal(pos1, pos2):\n",
    "        rng_key, _ = jax.random.split(rng_key)\n",
    "        pos2 = jax.random.randint(rng_key, (2,), 0, width)\n",
    "\n",
    "    # set p1 troop and base\n",
    "    board = board.at[pos1[0], pos1[1], 0].set(5)\n",
    "    board = board.at[pos1[0], pos1[1], 3].set(1)\n",
    "    # set p2 troop and base\n",
    "    board = board.at[pos2[0], pos2[1], 1].set(5)\n",
    "    board = board.at[pos2[0], pos2[1], 3].set(1)\n",
    "\n",
    "    # set random neutral bases\n",
    "    for i in range(params.num_neutral_bases):\n",
    "        rng_key, _ = jax.random.split(rng_key)\n",
    "        pos = jax.random.randint(rng_key, (2,), 0, width)\n",
    "        while jnp.array_equal(pos, pos1) or jnp.array_equal(pos, pos2):\n",
    "            rng_key, _ = jax.random.split(rng_key)\n",
    "            pos = jax.random.randint(rng_key, (2,), 0, width)\n",
    "        # set random number of neutral troops\n",
    "        rng_key, _ = jax.random.split(rng_key)\n",
    "        num_troops = jax.random.randint(rng_key, (), params.neutral_bases_min_troops, params.neutral_bases_max_troops)\n",
    "        board = board.at[pos[0], pos[1], 2].set(num_troops)\n",
    "        board = board.at[pos[0], pos[1], 3].set(1)\n",
    "\n",
    "    # set random neutral troops\n",
    "    for i in range(params.num_neutral_troops_start):\n",
    "        rng_key, _ = jax.random.split(rng_key)\n",
    "        pos = jax.random.randint(rng_key, (2,), 0, width)\n",
    "        while jnp.array_equal(pos, pos1) or jnp.array_equal(pos, pos2):\n",
    "            rng_key, _ = jax.random.split(rng_key)\n",
    "            pos = jax.random.randint(rng_key, (2,), 0, width)\n",
    "        # set random number of neutral troops\n",
    "        rng_key, _ = jax.random.split(rng_key)\n",
    "        num_troops = jax.random.randint(rng_key, shape=(), minval=params.neutral_bases_min_troops, maxval=params.neutral_bases_max_troops)\n",
    "        board = board.at[pos[0], pos[1], 2].set(num_troops)\n",
    "\n",
    "    return EnvState(board=board)\n",
    "\n",
    "rng_key = jax.random.PRNGKey(0)\n",
    "params = EnvConfig(board_width=10, board_height=10, num_neutral_bases=4, num_neutral_troops_start=8, neutral_bases_min_troops=1, neutral_bases_max_troops=10)\n",
    "state = init_state(rng_key, params)\n",
    "visualize_board(state)"
   ]
  },
  {
   "cell_type": "markdown",
   "metadata": {},
   "source": [
    "### Validation"
   ]
  },
  {
   "cell_type": "code",
   "execution_count": null,
   "metadata": {},
   "outputs": [],
   "source": [
    "def assert_valid_state(state: EnvState) -> None:\n",
    "    # Check that the board is of the right shape\n",
    "    chex.assert_shape(state.board, (10, 10, 4))\n",
    "    # Check that the number of troops and bases are integers\n",
    "    chex.assert_type(state.board, jnp.integer)\n",
    "    # Check that all values are non-negative.\n",
    "    assert jnp.all(state.board >= 0), \"Board has negative values.\"\n",
    "    \n",
    "    # For tiles that are bases, ensure at least one troop.\n",
    "    base_valid = jnp.where(state.board[..., 3] == 1, jnp.sum(state.board[..., :3]) > 0, True)\n",
    "    assert jnp.all(base_valid), \"Some bases do not have any troops.\"\n",
    "    \n",
    "    # Check that no tile has multiple bases (channel 3 at most 1).\n",
    "    no_multiple_bases = state.board[..., 3] <= 1\n",
    "    assert jnp.all(no_multiple_bases), \"Some tiles have multiple bases.\"\n",
    "    \n",
    "    # Check that no tile has troops from multiple players (only one channel from 0 to 2 can be over 0).\n",
    "    no_multiple_troops = jnp.sum(state.board[..., :3] > 0, axis=-1) <= 1\n",
    "    assert jnp.all(no_multiple_troops), \"Some tiles have troops from multiple players.\"\n",
    "\n",
    "assert_valid_state(state)"
   ]
  },
  {
   "cell_type": "markdown",
   "metadata": {},
   "source": [
    "### Move/Step"
   ]
  },
  {
   "cell_type": "code",
   "execution_count": null,
   "metadata": {},
   "outputs": [],
   "source": [
    "def move(state: EnvState, player: int, x: int, y: int, action: int) -> EnvState:\n",
    "    board = state.board\n",
    "    if board.shape[0] <= x or board.shape[1] <= y:\n",
    "        print(\"Out of bounds\")\n",
    "        return state\n",
    "    if board[y, x, player] < 2:\n",
    "        print(\"Not enough troops\")\n",
    "        return state\n",
    "    target_x, target_y = x, y\n",
    "    if action == 0:\n",
    "        target_y = y - 1\n",
    "    elif action == 1:\n",
    "        target_x = x + 1\n",
    "    elif action == 2:\n",
    "        target_y = y + 1\n",
    "    elif action == 3:\n",
    "        target_x = x - 1\n",
    "\n",
    "    # Check if the target is within bounds\n",
    "    within_x = target_x >= 0 and target_x < board.shape[1]\n",
    "    within_y = target_y >= 0 and target_y < board.shape[0]\n",
    "    if not within_x or not within_y:\n",
    "        return state\n",
    "    \n",
    "    # Check if the target has opponent troops\n",
    "    if board[target_y, target_x, (player + 1) % 2] > 0:\n",
    "        target_troops = board[target_y, target_x, (player + 1) % 2]\n",
    "        opponent = (player + 1) % 2\n",
    "    # Check if the target has neutral troops\n",
    "    elif board[target_y, target_x, 2] > 0:\n",
    "        target_troops = board[target_y, target_x, 2 % 2]\n",
    "        opponent = 2\n",
    "    else:\n",
    "        target_troops = 0\n",
    "        opponent = None\n",
    "        \n",
    "    sorce_troops = board[y, x, player]\n",
    "    if opponent is None:\n",
    "        board = board.at[target_y, target_x, player].set(board[y, x, player] - 1 + board[target_y, target_x, player])\n",
    "        board = board.at[y, x, player].set(1)\n",
    "    elif target_troops > sorce_troops:\n",
    "        board = board.at[target_y, target_x, opponent].set(target_troops - sorce_troops + 1)\n",
    "        board = board.at[y, x, player].set(1)\n",
    "    else:\n",
    "        board = board.at[target_y, target_x, opponent].set(0)\n",
    "        board = board.at[y, x, player].set(sorce_troops - target_troops)\n",
    "        if board[y, x, player] > 1:\n",
    "            board = board.at[target_y, target_x, player].set(board[y, x, player] - 1)\n",
    "            board = board.at[y, x, player].set(1)\n",
    "        \n",
    "    return EnvState(board=board, time=state.time)\n",
    "\n",
    "state = move(state, player=1, x=1, y=1, action=1)\n",
    "state = move(state, player=0, x=0, y=9, action=0)\n",
    "visualize_board(state)"
   ]
  },
  {
   "cell_type": "code",
   "execution_count": null,
   "metadata": {},
   "outputs": [],
   "source": [
    "def increase_troops(state: EnvState) -> EnvState:\n",
    "    # We only increase troops for player 1 and player 2\n",
    "    board = state.board\n",
    "    bonus_troops = state.time == 0\n",
    "    for i in range(board.shape[0]):\n",
    "        for j in range(board.shape[1]):\n",
    "            for k in range(2):\n",
    "                # Increase troops for all places with troops if bonus troops\n",
    "                if board[i, j, k] > 0:\n",
    "                    board = board.at[i, j, k].set(board[i, j, k] + bonus_troops)\n",
    "                    # Increse troops for all bases\n",
    "                    if board[i, j, 3] > 0:\n",
    "                        board = board.at[i, j, k].set(board[i, j, k] + 1)\n",
    "    # Decrese time and increase to 10 if bonus troops\n",
    "    time = state.time - 1 + bonus_troops * 10\n",
    "    return EnvState(board=board, time=time)"
   ]
  },
  {
   "cell_type": "code",
   "execution_count": null,
   "metadata": {},
   "outputs": [],
   "source": [
    "print(state.time)\n",
    "state = increase_troops(state)\n",
    "visualize_board(state)\n",
    "print(state.time)"
   ]
  },
  {
   "cell_type": "markdown",
   "metadata": {},
   "source": [
    "### Random policy"
   ]
  },
  {
   "cell_type": "code",
   "execution_count": null,
   "metadata": {},
   "outputs": [],
   "source": [
    "def get_legal_moves(state: EnvState, player: int) -> jnp.ndarray:\n",
    "    board = state.board\n",
    "    legal_moves = jnp.zeros((board.shape[0], board.shape[1], 4), dtype=jnp.bool_)\n",
    "    for i in range(board.shape[0]):\n",
    "        for j in range(board.shape[1]):\n",
    "            if board[i, j, player] > 1:\n",
    "                legal_moves = legal_moves.at[i, j, 0].set(i > 0)\n",
    "                legal_moves = legal_moves.at[i, j, 1].set(j < board.shape[1] - 1)\n",
    "                legal_moves = legal_moves.at[i, j, 2].set(i < board.shape[0] - 1)\n",
    "                legal_moves = legal_moves.at[i, j, 3].set(j > 0)\n",
    "    return legal_moves\n",
    "\n",
    "legal_moves = get_legal_moves(state, 1)\n",
    "print(legal_moves)"
   ]
  },
  {
   "cell_type": "markdown",
   "metadata": {},
   "source": [
    "### Random play"
   ]
  },
  {
   "cell_type": "code",
   "execution_count": null,
   "metadata": {},
   "outputs": [],
   "source": [
    "# Play a game with random moves for 1000 steps\n",
    "# Visualize the board interactivly\n",
    "state = init_state(rng_key, params)\n",
    "\n",
    "for i in range(5):\n",
    "    player = i % 2\n",
    "    legal_moves = get_legal_moves(state, player)\n",
    "    if jnp.sum(legal_moves) == 0:\n",
    "        print(f\"Player {player} has no legal moves.\")\n",
    "    else:\n",
    "        # get one random legal move\n",
    "        legal_indices = np.argwhere(legal_moves)\n",
    "        move_idx = np.random.randint(0, len(legal_indices))\n",
    "        move_ = legal_indices[move_idx]\n",
    "        # print(move_)\n",
    "        state = move(state, player, move_[1], move_[0], move_[2])\n",
    "    state = increase_troops(state)\n",
    "    # visualize_board(state)\n"
   ]
  },
  {
   "cell_type": "code",
   "execution_count": null,
   "metadata": {},
   "outputs": [],
   "source": [
    "visualize_board(state)"
   ]
  },
  {
   "cell_type": "markdown",
   "metadata": {},
   "source": [
    "### Benchmarking"
   ]
  },
  {
   "cell_type": "code",
   "execution_count": null,
   "metadata": {},
   "outputs": [],
   "source": [
    "jit_move = jax.jit(move)\n",
    "\n",
    "rng_key = jax.random.PRNGKey(0)\n",
    "params = EnvConfig(board_width=10, board_height=10, num_neutral_bases=4, num_neutral_troops_start=8, neutral_bases_min_troops=1, neutral_bases_max_troops=10)\n",
    "init_state = init_state(rng_key, params)\n",
    "visualize_board(init_state)\n",
    "\n",
    "state = jit_move(init_state, player=1, x=1, y=1, action=1)"
   ]
  }
 ],
 "metadata": {
  "kernelspec": {
   "display_name": ".venv",
   "language": "python",
   "name": "python3"
  },
  "language_info": {
   "codemirror_mode": {
    "name": "ipython",
    "version": 3
   },
   "file_extension": ".py",
   "mimetype": "text/x-python",
   "name": "python",
   "nbconvert_exporter": "python",
   "pygments_lexer": "ipython3",
   "version": "3.12.5"
  }
 },
 "nbformat": 4,
 "nbformat_minor": 2
}
