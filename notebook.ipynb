{
 "cells": [
  {
   "cell_type": "markdown",
   "metadata": {},
   "source": [
    "# Simple RTS"
   ]
  },
  {
   "cell_type": "code",
   "execution_count": null,
   "metadata": {},
   "outputs": [],
   "source": [
    "import os\n",
    "\n",
    "import jax\n",
    "import jax.numpy as jnp\n",
    "import optax\n",
    "from flax import nnx\n",
    "import numpy as np\n",
    "import matplotlib.pyplot as plt"
   ]
  },
  {
   "cell_type": "code",
   "execution_count": null,
   "metadata": {},
   "outputs": [],
   "source": [
    "from src.rts.config import EnvConfig\n",
    "from src.rts.env import init_state\n",
    "from src.rts.utils import get_legal_moves, p1_step\n",
    "from src.rts.visualization import visualize_state\n",
    "from src.rl.pqn import Params, train_minibatched\n",
    "from src.rl.model import MLP\n",
    "from src.rl.eval import evaluate_batch"
   ]
  },
  {
   "cell_type": "code",
   "execution_count": null,
   "metadata": {},
   "outputs": [],
   "source": [
    "os.environ[\"JAX_CHECK_TRACER_LEAKS\"] = \"TRUE\""
   ]
  },
  {
   "cell_type": "code",
   "execution_count": null,
   "metadata": {},
   "outputs": [],
   "source": [
    "with jax.default_matmul_precision(\"bfloat16\"):\n",
    "    width = 10\n",
    "    height = 10\n",
    "    config = EnvConfig(\n",
    "        num_players=2,\n",
    "        board_width = width,\n",
    "        board_height = height,\n",
    "        num_neutral_bases = 3,\n",
    "        num_neutral_troops_start = 5,\n",
    "        neutral_troops_min = 4,\n",
    "        neutral_troops_max = 10,\n",
    "        player_start_troops=5,\n",
    "        bonus_time=10,\n",
    "    )\n",
    "    params = Params(\n",
    "        num_iterations=200,\n",
    "        lr=8e-4,\n",
    "        gamma=0.9,\n",
    "        q_lambda=0.95,\n",
    "        num_envs=256,\n",
    "        num_steps=250,\n",
    "        update_epochs=2,\n",
    "        num_minibatches=10,\n",
    "        epsilon=0.0008,\n",
    "    )\n",
    "    q_net = MLP(width*height*4, [512], width*height*4, rngs=nnx.Rngs(0))\n",
    "    optimizer = nnx.Optimizer(q_net, optax.adam(params.lr))\n",
    "\n",
    "    q_net, losses, cum_returns, timings = train_minibatched(q_net, optimizer, config, params)"
   ]
  },
  {
   "cell_type": "code",
   "execution_count": null,
   "metadata": {},
   "outputs": [],
   "source": [
    "plt.plot(losses)\n",
    "plt.title(\"Losses\")\n",
    "plt.xlabel(\"Iteration\")\n",
    "plt.ylabel(\"Loss\")\n",
    "plt.show()\n",
    "\n",
    "plt.plot(np.mean(cum_returns, axis=1))\n",
    "plt.title(\"Cumulative Returns\")\n",
    "plt.xlabel(\"Iteration\")\n",
    "plt.ylabel(\"Cumulative Return\")\n",
    "plt.show()"
   ]
  },
  {
   "cell_type": "code",
   "execution_count": null,
   "metadata": {},
   "outputs": [],
   "source": [
    "# eval\n",
    "output = float(np.mean(evaluate_batch(q_net, config, jax.random.PRNGKey(0), batch_size=100, num_steps=250)))\n",
    "print(f\"Evaluation output: {output}\")"
   ]
  },
  {
   "cell_type": "code",
   "execution_count": null,
   "metadata": {},
   "outputs": [],
   "source": [
    "rng_key = jax.random.PRNGKey(0)\n",
    "state = init_state(rng_key, config)\n",
    "rewards = []\n",
    "for i in range(300):\n",
    "    legal_mask = get_legal_moves(state, 0)\n",
    "    legal_mask = jnp.array(legal_mask.flatten())\n",
    "    action = jnp.argmax((q_net(state.board.flatten()) + 1000) * legal_mask)\n",
    "    rng_key, subkey = jax.random.split(rng_key)\n",
    "    state, p1_reward = p1_step(state, subkey, config, action)\n",
    "    rewards.append(p1_reward)\n",
    "    if i % 5 == 0:\n",
    "        visualize_state(state)\n",
    "plt.plot(np.cumsum(rewards))"
   ]
  }
 ],
 "metadata": {
  "kernelspec": {
   "display_name": ".venv",
   "language": "python",
   "name": "python3"
  },
  "language_info": {
   "codemirror_mode": {
    "name": "ipython",
    "version": 3
   },
   "file_extension": ".py",
   "mimetype": "text/x-python",
   "name": "python",
   "nbconvert_exporter": "python",
   "pygments_lexer": "ipython3",
   "version": "3.12.7"
  }
 },
 "nbformat": 4,
 "nbformat_minor": 2
}
