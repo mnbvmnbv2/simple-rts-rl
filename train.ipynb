{
 "cells": [
  {
   "cell_type": "markdown",
   "id": "8ad8f7e8",
   "metadata": {},
   "source": [
    "# A"
   ]
  },
  {
   "cell_type": "code",
   "execution_count": null,
   "id": "fab59265",
   "metadata": {},
   "outputs": [],
   "source": [
    "import numpy as np\n",
    "import matplotlib.pyplot as plt\n",
    "\n",
    "import jax\n",
    "import jax.numpy as jnp\n",
    "from flax import nnx\n",
    "import optax\n",
    "\n",
    "from src.rts.config import EnvConfig\n",
    "from src.rts.env import init_state, p1_step\n",
    "from src.rts.utils import get_legal_moves\n",
    "from src.rts.visualizaiton import visualize_board\n",
    "from src.rl.pqn import Params, train_minibatched, Model\n",
    "from src.rl.eval import evaluate_batch\n",
    "\n",
    "from carbs import CARBS, CARBSParams, ObservationInParam"
   ]
  },
  {
   "cell_type": "code",
   "execution_count": null,
   "id": "1b3b7062",
   "metadata": {},
   "outputs": [],
   "source": [
    "width = 10\n",
    "height = 10\n",
    "config = EnvConfig(\n",
    "    num_players=2,\n",
    "    board_width = width,\n",
    "    board_height = height,\n",
    "    num_neutral_bases = 3,\n",
    "    num_neutral_troops_start = 5,\n",
    "    neutral_troops_min = 4,\n",
    "    neutral_troops_max = 10,\n",
    "    player_start_troops=5,\n",
    "    bonus_time=10,\n",
    ")"
   ]
  },
  {
   "cell_type": "code",
   "execution_count": null,
   "id": "1e649574",
   "metadata": {},
   "outputs": [],
   "source": [
    "# param_spaces = parse_sweep_config(config.sweep)\n",
    "# carbs_params = CARBSParams(\n",
    "#     better_direction_sign=1,\n",
    "#     is_wandb_logging_enabled=False,\n",
    "#     resample_frequency=0,\n",
    "# )\n",
    "# carbs = CARBS(carbs_params, param_spaces)\n",
    "num_runs = 1\n",
    "for _ in range(num_runs):\n",
    "    # suggestion = carbs.suggest().suggestion\n",
    "\n",
    "    # config = update_config(config, suggestion)\n",
    "\n",
    "    params = Params(\n",
    "        num_iterations=5,\n",
    "        lr=4e-4,\n",
    "        gamma=0.99,\n",
    "        q_lambda=0.92,\n",
    "        num_envs=50,\n",
    "        num_steps=250,\n",
    "        update_epochs=1,\n",
    "        num_minibatches=4,\n",
    "        epsilon=0.3,\n",
    "    )\n",
    "    q_net = Model(width*height*4, 512, width*height*4, rngs=nnx.Rngs(0))\n",
    "    optimizer = nnx.Optimizer(q_net, optax.adam(params.lr))\n",
    "    q_net, losses, cum_returns = train_minibatched(q_net, optimizer, config, params)\n",
    "\n",
    "    evaluate_batch(q_net, config, jax.random.PRNGKey(0), batch_size=10, num_steps=250)\n",
    "    # ---\n",
    "\n",
    "    # obs_out = carbs.observe(ObservationInParam(input=suggestion, output=result, cost=time_used))"
   ]
  }
 ],
 "metadata": {
  "kernelspec": {
   "display_name": ".venv",
   "language": "python",
   "name": "python3"
  },
  "language_info": {
   "codemirror_mode": {
    "name": "ipython",
    "version": 3
   },
   "file_extension": ".py",
   "mimetype": "text/x-python",
   "name": "python",
   "nbconvert_exporter": "python",
   "pygments_lexer": "ipython3",
   "version": "3.12.5"
  }
 },
 "nbformat": 4,
 "nbformat_minor": 5
}
