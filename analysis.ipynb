{
 "cells": [
  {
   "cell_type": "markdown",
   "id": "fa21e5b4",
   "metadata": {},
   "source": [
    "# Analysis of MLFlow experiment"
   ]
  },
  {
   "cell_type": "code",
   "execution_count": null,
   "id": "84305adc",
   "metadata": {},
   "outputs": [],
   "source": [
    "import mlflow\n",
    "import pandas as pd\n",
    "import matplotlib.pyplot as plt"
   ]
  },
  {
   "cell_type": "code",
   "execution_count": null,
   "id": "a08bc132",
   "metadata": {},
   "outputs": [],
   "source": [
    "# Replace with your experiment name or ID\n",
    "experiment_name = \"carbs_indefinite_normalized\"\n",
    "exp = mlflow.get_experiment_by_name(experiment_name)\n",
    "\n",
    "runs = mlflow.search_runs(\n",
    "    experiment_ids=[exp.experiment_id],\n",
    "    output_format=\"pandas\"\n",
    ")\n",
    "\n",
    "runs"
   ]
  },
  {
   "cell_type": "code",
   "execution_count": null,
   "id": "41e6ceac",
   "metadata": {},
   "outputs": [],
   "source": [
    "runs.columns"
   ]
  },
  {
   "cell_type": "code",
   "execution_count": null,
   "id": "037c1b0f",
   "metadata": {},
   "outputs": [],
   "source": [
    "# get me the first and last started at time\n",
    "runs['start_time'] = pd.to_datetime(runs['start_time'], unit='ms')\n",
    "runs['end_time'] = pd.to_datetime(runs['end_time'], unit='ms')\n",
    "runs = runs.sort_values(by='start_time')\n",
    "# remove all data before 2025-08-15\n",
    "runs = runs[runs['start_time'] >= '2025-08-15']\n",
    "runs"
   ]
  },
  {
   "cell_type": "code",
   "execution_count": null,
   "id": "b2ac4da4",
   "metadata": {},
   "outputs": [],
   "source": [
    "# plot scatter metrics.output vs metrics.cost_sec\n",
    "plt.figure(figsize=(10, 6))\n",
    "plt.scatter(runs['metrics.cost_sec'], runs['metrics.output'], alpha=0.7\n",
    "              , c=pd.to_datetime(runs['start_time']).astype(int)  # color by start_time\n",
    "              , cmap='viridis'\n",
    "              )\n",
    "plt.colorbar(label='Start Time')\n",
    "plt.xlabel('Cost (seconds)')\n",
    "plt.ylabel('Output')\n",
    "plt.title('Output vs Cost Scatter Plot')\n",
    "plt.xscale('log')\n",
    "plt.yscale('log')\n",
    "plt.grid(True)\n",
    "plt.show()"
   ]
  },
  {
   "cell_type": "code",
   "execution_count": null,
   "id": "340ca7d9",
   "metadata": {},
   "outputs": [],
   "source": [
    "# get the highest output run\n",
    "best_output_run = runs.loc[runs['metrics.output'].idxmax()]\n",
    "best_output_run"
   ]
  },
  {
   "cell_type": "code",
   "execution_count": null,
   "id": "181eee06",
   "metadata": {},
   "outputs": [],
   "source": [
    "corr = runs.corr(numeric_only=True)[\"metrics.output\"].sort_values(ascending=False)\n",
    "print(corr)"
   ]
  },
  {
   "cell_type": "code",
   "execution_count": null,
   "id": "13c49374",
   "metadata": {},
   "outputs": [],
   "source": [
    "runs"
   ]
  },
  {
   "cell_type": "code",
   "execution_count": null,
   "id": "705c4be7",
   "metadata": {},
   "outputs": [],
   "source": [
    "def pareto_front(df, x_col=\"metrics.cost_sec\", y_col=\"metrics.output\"):\n",
    "    # Sort ascending on cost, descending on output\n",
    "    df_sorted = df.sort_values([x_col, y_col], ascending=[True, False])\n",
    "    pareto = []\n",
    "    best_y = -float(\"inf\")\n",
    "    for _, row in df_sorted.iterrows():\n",
    "        if row[y_col] > best_y:\n",
    "            pareto.append(row)\n",
    "            best_y = row[y_col]\n",
    "    return pd.DataFrame(pareto)\n",
    "\n",
    "pareto_runs = pareto_front(runs)\n",
    "plt.figure(figsize=(10, 6))\n",
    "plt.scatter(runs['metrics.cost_sec'], runs['metrics.output'], alpha=0.3\n",
    "                , c=pd.to_datetime(runs['start_time']).astype(int) \n",
    "                , cmap='viridis'\n",
    "                )\n",
    "plt.plot(pareto_runs['metrics.cost_sec'], pareto_runs['metrics.output'], color='red', marker='o', label='Pareto Front')\n",
    "plt.colorbar(label='Start Time')\n",
    "plt.xlabel('Cost (seconds)')\n",
    "plt.ylabel('Output')\n",
    "plt.title('Output vs Cost with Pareto Front')\n",
    "plt.xscale('log')\n",
    "plt.yscale('log')\n",
    "plt.legend()"
   ]
  },
  {
   "cell_type": "code",
   "execution_count": null,
   "id": "4d732512",
   "metadata": {},
   "outputs": [],
   "source": [
    "pareto_runs"
   ]
  },
  {
   "cell_type": "code",
   "execution_count": null,
   "id": "75572573",
   "metadata": {},
   "outputs": [],
   "source": [
    "from sklearn.ensemble import RandomForestRegressor\n",
    "\n",
    "param_cols = [c for c in runs.columns if c.startswith(\"params.\")]\n",
    "X = runs[param_cols].apply(pd.to_numeric, errors=\"coerce\").fillna(0)\n",
    "y = runs[\"metrics.output\"]\n",
    "\n",
    "model = RandomForestRegressor(n_estimators=200, random_state=0)\n",
    "model.fit(X, y)\n",
    "\n",
    "importances = pd.Series(model.feature_importances_, index=param_cols).sort_values(ascending=False)\n",
    "print(importances)"
   ]
  },
  {
   "cell_type": "code",
   "execution_count": null,
   "id": "f14f0813",
   "metadata": {},
   "outputs": [],
   "source": [
    "top = runs.nlargest(int(len(runs)*0.01), \"metrics.output\")\n",
    "top_params = top[param_cols].mode()\n",
    "top_params"
   ]
  },
  {
   "cell_type": "code",
   "execution_count": null,
   "id": "ffc51dc1",
   "metadata": {},
   "outputs": [],
   "source": [
    "top"
   ]
  },
  {
   "cell_type": "code",
   "execution_count": null,
   "id": "d459c834",
   "metadata": {},
   "outputs": [],
   "source": [
    "param_cols"
   ]
  },
  {
   "cell_type": "code",
   "execution_count": null,
   "id": "ad078a21",
   "metadata": {},
   "outputs": [],
   "source": [
    "import itertools\n",
    "\n",
    "search_space = {\n",
    "    \"params.num_iterations\": [50,100,200,300,400,500,1000],\n",
    "    \"params.lr\": [0.000303, 0.0005, 0.0007, 0.0009, 0.001, 0.002],\n",
    "    \"params.epsilon\": [0.00001, 0.00005, 0.0001, 0.0003, 0.001, 0.005, 0.05, 0.1],\n",
    "    \"params.q_lambda\": [0.85, 0.9, 0.92,0.95755,0.9,0.95,0.99],\n",
    "    \"params.gamma\": [0.85, 0.9, 0.92, 0.95, 0.99],\n",
    "    \"params.update_epochs\": [1,2],\n",
    "    \"params.num_minibatches\": [8,9,10,11,12,13],\n",
    "}\n",
    "\n",
    "grid = pd.DataFrame(\n",
    "    list(itertools.product(*search_space.values())),\n",
    "    columns=search_space.keys()\n",
    ")\n",
    "\n",
    "preds = model.predict(grid)\n",
    "grid[\"pred_output\"] = preds\n",
    "\n",
    "grid.sort_values(\"pred_output\", ascending=False).head(10)"
   ]
  },
  {
   "cell_type": "code",
   "execution_count": null,
   "id": "64d1626e",
   "metadata": {},
   "outputs": [],
   "source": [
    "8e-4"
   ]
  }
 ],
 "metadata": {
  "kernelspec": {
   "display_name": ".venv",
   "language": "python",
   "name": "python3"
  },
  "language_info": {
   "codemirror_mode": {
    "name": "ipython",
    "version": 3
   },
   "file_extension": ".py",
   "mimetype": "text/x-python",
   "name": "python",
   "nbconvert_exporter": "python",
   "pygments_lexer": "ipython3",
   "version": "3.12.7"
  }
 },
 "nbformat": 4,
 "nbformat_minor": 5
}
